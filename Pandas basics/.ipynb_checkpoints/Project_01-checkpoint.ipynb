{
 "cells": [
  {
   "cell_type": "code",
   "execution_count": 1,
   "id": "46c4b27b-8e6e-4ee4-b0f4-7eb6f6ac21c0",
   "metadata": {},
   "outputs": [],
   "source": [
    "import pandas as pd"
   ]
  },
  {
   "cell_type": "code",
   "execution_count": 2,
   "id": "a3de10a4-bda1-441d-9abd-e66504326f7e",
   "metadata": {},
   "outputs": [],
   "source": [
    "df_source = pd.read_csv(r\"C:\\Users\\user\\PycharmProjects\\PythonProject_01\\Pandas basics\\source_data.csv\")"
   ]
  },
  {
   "cell_type": "code",
   "execution_count": 3,
   "id": "7ce27d28-9810-40b7-8cea-72dc15794bd6",
   "metadata": {},
   "outputs": [
    {
     "data": {
      "text/html": [
       "<div>\n",
       "<style scoped>\n",
       "    .dataframe tbody tr th:only-of-type {\n",
       "        vertical-align: middle;\n",
       "    }\n",
       "\n",
       "    .dataframe tbody tr th {\n",
       "        vertical-align: top;\n",
       "    }\n",
       "\n",
       "    .dataframe thead th {\n",
       "        text-align: right;\n",
       "    }\n",
       "</style>\n",
       "<table border=\"1\" class=\"dataframe\">\n",
       "  <thead>\n",
       "    <tr style=\"text-align: right;\">\n",
       "      <th></th>\n",
       "      <th>id</th>\n",
       "      <th>name</th>\n",
       "      <th>amount</th>\n",
       "      <th>date</th>\n",
       "    </tr>\n",
       "  </thead>\n",
       "  <tbody>\n",
       "    <tr>\n",
       "      <th>0</th>\n",
       "      <td>1</td>\n",
       "      <td>Alice</td>\n",
       "      <td>-500</td>\n",
       "      <td>2023-01-01</td>\n",
       "    </tr>\n",
       "    <tr>\n",
       "      <th>1</th>\n",
       "      <td>2</td>\n",
       "      <td>BOB</td>\n",
       "      <td>1500</td>\n",
       "      <td>2023-01-05</td>\n",
       "    </tr>\n",
       "    <tr>\n",
       "      <th>2</th>\n",
       "      <td>3</td>\n",
       "      <td>Charlie</td>\n",
       "      <td>2000</td>\n",
       "      <td>2023-01-10</td>\n",
       "    </tr>\n",
       "    <tr>\n",
       "      <th>3</th>\n",
       "      <td>4</td>\n",
       "      <td>David</td>\n",
       "      <td>2500</td>\n",
       "      <td>2023-01-15</td>\n",
       "    </tr>\n",
       "    <tr>\n",
       "      <th>4</th>\n",
       "      <td>5</td>\n",
       "      <td>EVE</td>\n",
       "      <td>3000</td>\n",
       "      <td>2023-01-20</td>\n",
       "    </tr>\n",
       "  </tbody>\n",
       "</table>\n",
       "</div>"
      ],
      "text/plain": [
       "   id     name  amount        date\n",
       "0   1    Alice    -500  2023-01-01\n",
       "1   2      BOB    1500  2023-01-05\n",
       "2   3  Charlie    2000  2023-01-10\n",
       "3   4    David    2500  2023-01-15\n",
       "4   5      EVE    3000  2023-01-20"
      ]
     },
     "execution_count": 3,
     "metadata": {},
     "output_type": "execute_result"
    }
   ],
   "source": [
    "df_source"
   ]
  },
  {
   "cell_type": "code",
   "execution_count": 4,
   "id": "44aecda7-1fa2-4de6-a8ca-99e670dd8dae",
   "metadata": {},
   "outputs": [],
   "source": [
    "df_target = pd.read_csv(r\"C:\\Users\\user\\PycharmProjects\\PythonProject_01\\Pandas basics\\target_data.csv\")"
   ]
  },
  {
   "cell_type": "code",
   "execution_count": 5,
   "id": "72e9ede4-2cf5-4621-a410-47ac6d67dc24",
   "metadata": {},
   "outputs": [
    {
     "data": {
      "text/html": [
       "<div>\n",
       "<style scoped>\n",
       "    .dataframe tbody tr th:only-of-type {\n",
       "        vertical-align: middle;\n",
       "    }\n",
       "\n",
       "    .dataframe tbody tr th {\n",
       "        vertical-align: top;\n",
       "    }\n",
       "\n",
       "    .dataframe thead th {\n",
       "        text-align: right;\n",
       "    }\n",
       "</style>\n",
       "<table border=\"1\" class=\"dataframe\">\n",
       "  <thead>\n",
       "    <tr style=\"text-align: right;\">\n",
       "      <th></th>\n",
       "      <th>id</th>\n",
       "      <th>name</th>\n",
       "      <th>amount</th>\n",
       "      <th>date</th>\n",
       "    </tr>\n",
       "  </thead>\n",
       "  <tbody>\n",
       "    <tr>\n",
       "      <th>0</th>\n",
       "      <td>1</td>\n",
       "      <td>ALICE</td>\n",
       "      <td>1000</td>\n",
       "      <td>2023-01-01</td>\n",
       "    </tr>\n",
       "    <tr>\n",
       "      <th>1</th>\n",
       "      <td>2</td>\n",
       "      <td>BOB</td>\n",
       "      <td>1500</td>\n",
       "      <td>2023-01-05</td>\n",
       "    </tr>\n",
       "    <tr>\n",
       "      <th>2</th>\n",
       "      <td>3</td>\n",
       "      <td>CHARLIE</td>\n",
       "      <td>2100</td>\n",
       "      <td>2023-01-10</td>\n",
       "    </tr>\n",
       "    <tr>\n",
       "      <th>3</th>\n",
       "      <td>4</td>\n",
       "      <td>DAVID</td>\n",
       "      <td>2500</td>\n",
       "      <td>2023-01-15</td>\n",
       "    </tr>\n",
       "    <tr>\n",
       "      <th>4</th>\n",
       "      <td>5</td>\n",
       "      <td>EVE</td>\n",
       "      <td>3000</td>\n",
       "      <td>2023-01-20</td>\n",
       "    </tr>\n",
       "  </tbody>\n",
       "</table>\n",
       "</div>"
      ],
      "text/plain": [
       "   id     name  amount        date\n",
       "0   1    ALICE    1000  2023-01-01\n",
       "1   2      BOB    1500  2023-01-05\n",
       "2   3  CHARLIE    2100  2023-01-10\n",
       "3   4    DAVID    2500  2023-01-15\n",
       "4   5      EVE    3000  2023-01-20"
      ]
     },
     "execution_count": 5,
     "metadata": {},
     "output_type": "execute_result"
    }
   ],
   "source": [
    "df_target"
   ]
  },
  {
   "cell_type": "code",
   "execution_count": 6,
   "id": "4421ea40-7649-443e-921d-37c5530ac24a",
   "metadata": {},
   "outputs": [
    {
     "name": "stdout",
     "output_type": "stream",
     "text": [
      "<class 'pandas.core.frame.DataFrame'>\n",
      "RangeIndex: 5 entries, 0 to 4\n",
      "Data columns (total 4 columns):\n",
      " #   Column  Non-Null Count  Dtype \n",
      "---  ------  --------------  ----- \n",
      " 0   id      5 non-null      int64 \n",
      " 1   name    5 non-null      object\n",
      " 2   amount  5 non-null      int64 \n",
      " 3   date    5 non-null      object\n",
      "dtypes: int64(2), object(2)\n",
      "memory usage: 292.0+ bytes\n",
      "<class 'pandas.core.frame.DataFrame'>\n",
      "RangeIndex: 5 entries, 0 to 4\n",
      "Data columns (total 4 columns):\n",
      " #   Column  Non-Null Count  Dtype \n",
      "---  ------  --------------  ----- \n",
      " 0   id      5 non-null      int64 \n",
      " 1   name    5 non-null      object\n",
      " 2   amount  5 non-null      int64 \n",
      " 3   date    5 non-null      object\n",
      "dtypes: int64(2), object(2)\n",
      "memory usage: 292.0+ bytes\n"
     ]
    }
   ],
   "source": [
    "df_source.info()\n",
    "df_target.info()"
   ]
  },
  {
   "cell_type": "code",
   "execution_count": 7,
   "id": "e6f64492-c7ec-4891-8a7a-fa93d934c2cd",
   "metadata": {},
   "outputs": [
    {
     "name": "stdout",
     "output_type": "stream",
     "text": [
      "Source Data:\n"
     ]
    },
    {
     "data": {
      "text/html": [
       "<div>\n",
       "<style scoped>\n",
       "    .dataframe tbody tr th:only-of-type {\n",
       "        vertical-align: middle;\n",
       "    }\n",
       "\n",
       "    .dataframe tbody tr th {\n",
       "        vertical-align: top;\n",
       "    }\n",
       "\n",
       "    .dataframe thead th {\n",
       "        text-align: right;\n",
       "    }\n",
       "</style>\n",
       "<table border=\"1\" class=\"dataframe\">\n",
       "  <thead>\n",
       "    <tr style=\"text-align: right;\">\n",
       "      <th></th>\n",
       "      <th>id</th>\n",
       "      <th>name</th>\n",
       "      <th>amount</th>\n",
       "      <th>date</th>\n",
       "    </tr>\n",
       "  </thead>\n",
       "  <tbody>\n",
       "    <tr>\n",
       "      <th>0</th>\n",
       "      <td>1</td>\n",
       "      <td>Alice</td>\n",
       "      <td>-500</td>\n",
       "      <td>2023-01-01</td>\n",
       "    </tr>\n",
       "    <tr>\n",
       "      <th>1</th>\n",
       "      <td>2</td>\n",
       "      <td>BOB</td>\n",
       "      <td>1500</td>\n",
       "      <td>2023-01-05</td>\n",
       "    </tr>\n",
       "    <tr>\n",
       "      <th>2</th>\n",
       "      <td>3</td>\n",
       "      <td>Charlie</td>\n",
       "      <td>2000</td>\n",
       "      <td>2023-01-10</td>\n",
       "    </tr>\n",
       "    <tr>\n",
       "      <th>3</th>\n",
       "      <td>4</td>\n",
       "      <td>David</td>\n",
       "      <td>2500</td>\n",
       "      <td>2023-01-15</td>\n",
       "    </tr>\n",
       "    <tr>\n",
       "      <th>4</th>\n",
       "      <td>5</td>\n",
       "      <td>EVE</td>\n",
       "      <td>3000</td>\n",
       "      <td>2023-01-20</td>\n",
       "    </tr>\n",
       "  </tbody>\n",
       "</table>\n",
       "</div>"
      ],
      "text/plain": [
       "   id     name  amount        date\n",
       "0   1    Alice    -500  2023-01-01\n",
       "1   2      BOB    1500  2023-01-05\n",
       "2   3  Charlie    2000  2023-01-10\n",
       "3   4    David    2500  2023-01-15\n",
       "4   5      EVE    3000  2023-01-20"
      ]
     },
     "metadata": {},
     "output_type": "display_data"
    },
    {
     "name": "stdout",
     "output_type": "stream",
     "text": [
      "------------------\n",
      "Target Data:\n"
     ]
    },
    {
     "data": {
      "text/html": [
       "<div>\n",
       "<style scoped>\n",
       "    .dataframe tbody tr th:only-of-type {\n",
       "        vertical-align: middle;\n",
       "    }\n",
       "\n",
       "    .dataframe tbody tr th {\n",
       "        vertical-align: top;\n",
       "    }\n",
       "\n",
       "    .dataframe thead th {\n",
       "        text-align: right;\n",
       "    }\n",
       "</style>\n",
       "<table border=\"1\" class=\"dataframe\">\n",
       "  <thead>\n",
       "    <tr style=\"text-align: right;\">\n",
       "      <th></th>\n",
       "      <th>id</th>\n",
       "      <th>name</th>\n",
       "      <th>amount</th>\n",
       "      <th>date</th>\n",
       "    </tr>\n",
       "  </thead>\n",
       "  <tbody>\n",
       "    <tr>\n",
       "      <th>0</th>\n",
       "      <td>1</td>\n",
       "      <td>ALICE</td>\n",
       "      <td>1000</td>\n",
       "      <td>2023-01-01</td>\n",
       "    </tr>\n",
       "    <tr>\n",
       "      <th>1</th>\n",
       "      <td>2</td>\n",
       "      <td>BOB</td>\n",
       "      <td>1500</td>\n",
       "      <td>2023-01-05</td>\n",
       "    </tr>\n",
       "    <tr>\n",
       "      <th>2</th>\n",
       "      <td>3</td>\n",
       "      <td>CHARLIE</td>\n",
       "      <td>2100</td>\n",
       "      <td>2023-01-10</td>\n",
       "    </tr>\n",
       "    <tr>\n",
       "      <th>3</th>\n",
       "      <td>4</td>\n",
       "      <td>DAVID</td>\n",
       "      <td>2500</td>\n",
       "      <td>2023-01-15</td>\n",
       "    </tr>\n",
       "    <tr>\n",
       "      <th>4</th>\n",
       "      <td>5</td>\n",
       "      <td>EVE</td>\n",
       "      <td>3000</td>\n",
       "      <td>2023-01-20</td>\n",
       "    </tr>\n",
       "  </tbody>\n",
       "</table>\n",
       "</div>"
      ],
      "text/plain": [
       "   id     name  amount        date\n",
       "0   1    ALICE    1000  2023-01-01\n",
       "1   2      BOB    1500  2023-01-05\n",
       "2   3  CHARLIE    2100  2023-01-10\n",
       "3   4    DAVID    2500  2023-01-15\n",
       "4   5      EVE    3000  2023-01-20"
      ]
     },
     "metadata": {},
     "output_type": "display_data"
    },
    {
     "name": "stdout",
     "output_type": "stream",
     "text": [
      "------------------\n",
      "Source Info:\n",
      "<class 'pandas.core.frame.DataFrame'>\n",
      "RangeIndex: 5 entries, 0 to 4\n",
      "Data columns (total 4 columns):\n",
      " #   Column  Non-Null Count  Dtype \n",
      "---  ------  --------------  ----- \n",
      " 0   id      5 non-null      int64 \n",
      " 1   name    5 non-null      object\n",
      " 2   amount  5 non-null      int64 \n",
      " 3   date    5 non-null      object\n",
      "dtypes: int64(2), object(2)\n",
      "memory usage: 292.0+ bytes\n",
      "------------------\n",
      "Target Info:\n",
      "<class 'pandas.core.frame.DataFrame'>\n",
      "RangeIndex: 5 entries, 0 to 4\n",
      "Data columns (total 4 columns):\n",
      " #   Column  Non-Null Count  Dtype \n",
      "---  ------  --------------  ----- \n",
      " 0   id      5 non-null      int64 \n",
      " 1   name    5 non-null      object\n",
      " 2   amount  5 non-null      int64 \n",
      " 3   date    5 non-null      object\n",
      "dtypes: int64(2), object(2)\n",
      "memory usage: 292.0+ bytes\n"
     ]
    }
   ],
   "source": [
    "print(\"Source Data:\")\n",
    "\n",
    "display(df_source)\n",
    "\n",
    "print(\"------------------\")\n",
    "\n",
    "print(\"Target Data:\")\n",
    "\n",
    "display(df_target)\n",
    "print(\"------------------\")\n",
    "\n",
    "print(\"Source Info:\")\n",
    "df_source.info()\n",
    "\n",
    "\n",
    "\n",
    "print(\"------------------\")\n",
    "\n",
    "\n",
    "\n",
    "print(\"Target Info:\")\n",
    "df_target.info()\n"
   ]
  },
  {
   "cell_type": "code",
   "execution_count": 8,
   "id": "94937844-6bc4-46fe-87b3-7dad01e499a2",
   "metadata": {},
   "outputs": [
    {
     "name": "stdout",
     "output_type": "stream",
     "text": [
      "Perfect !! Count Matched !\n"
     ]
    }
   ],
   "source": [
    "assert df_source.shape[0] == df_target.shape[0],\"Count is Not Matching\"\n",
    "print(\"Perfect !! Count Matched !\")"
   ]
  },
  {
   "cell_type": "code",
   "execution_count": 9,
   "id": "8f40a800-fa7b-4606-bee9-0f4278b2f78d",
   "metadata": {},
   "outputs": [
    {
     "data": {
      "text/plain": [
       "id        True\n",
       "name      True\n",
       "amount    True\n",
       "date      True\n",
       "dtype: bool"
      ]
     },
     "execution_count": 9,
     "metadata": {},
     "output_type": "execute_result"
    }
   ],
   "source": [
    "#same non-null count across both DataFrames.\n",
    "df_source.count() == df_target.count()\n"
   ]
  },
  {
   "cell_type": "code",
   "execution_count": 10,
   "id": "7786621c-7008-46c5-b551-d5b154e90504",
   "metadata": {},
   "outputs": [],
   "source": [
    "#all counts match\n",
    "#assert (df_source.count() == df_target.count()).all(), \"Column-wise count mismatch!\"\n",
    "#print(\"All column counts match.\")\n"
   ]
  },
  {
   "cell_type": "code",
   "execution_count": 11,
   "id": "b0754af8-d846-43d8-bf8c-26da98a4ed09",
   "metadata": {},
   "outputs": [
    {
     "name": "stdout",
     "output_type": "stream",
     "text": [
      "all count matched\n"
     ]
    }
   ],
   "source": [
    "#   assert().all(),'count mistmatched'\n",
    "#    print('all count matched')\n",
    "\n",
    "assert(df_source.count() == df_target.count()).all(),'count mistmatched'\n",
    "print('all count matched')"
   ]
  },
  {
   "cell_type": "code",
   "execution_count": 12,
   "id": "bdebc6cc-028f-49e0-93cc-228dda25306d",
   "metadata": {},
   "outputs": [
    {
     "data": {
      "text/plain": [
       "id        True\n",
       "name      True\n",
       "amount    True\n",
       "date      True\n",
       "dtype: bool"
      ]
     },
     "execution_count": 12,
     "metadata": {},
     "output_type": "execute_result"
    }
   ],
   "source": [
    "#compare data types between two DataFrames: type 1\n",
    "(df_source.dtypes) == (df_target.dtypes)"
   ]
  },
  {
   "cell_type": "code",
   "execution_count": 13,
   "id": "47ecf3ec-2e77-4992-8271-f77602a27928",
   "metadata": {},
   "outputs": [
    {
     "data": {
      "text/plain": [
       "np.True_"
      ]
     },
     "execution_count": 13,
     "metadata": {},
     "output_type": "execute_result"
    }
   ],
   "source": [
    "#compare data types between two DataFrames: type 2\n",
    "(df_source.dtypes == df_target.dtypes).all()"
   ]
  },
  {
   "cell_type": "code",
   "execution_count": 14,
   "id": "afbab4cc-5e65-4b5b-9f34-5593b5c585e2",
   "metadata": {},
   "outputs": [
    {
     "name": "stdout",
     "output_type": "stream",
     "text": [
      "All the data type is Matching\n"
     ]
    }
   ],
   "source": [
    "#compare data types between two DataFrames: type 3\n",
    "assert(df_source.dtypes == df_target.dtypes).all(),'Not Matching'\n",
    "print('All the data type is Matching')"
   ]
  },
  {
   "cell_type": "code",
   "execution_count": 15,
   "id": "31af1e14-c1fb-406c-a932-88025fa8804b",
   "metadata": {},
   "outputs": [
    {
     "name": "stdout",
     "output_type": "stream",
     "text": [
      "All data types match.\n"
     ]
    }
   ],
   "source": [
    "mismatched_types = df_source.columns[df_source.columns != df_target.columns]\n",
    "if not mismatched_types.empty:\n",
    "    print(\"Mismatched data types found:\")\n",
    "    print(mismatched_types)\n",
    "else:\n",
    "    print(\"All data types match.\")\n"
   ]
  },
  {
   "cell_type": "code",
   "execution_count": 16,
   "id": "c1e35914-4fef-4b9d-8f2b-a4d6949a1007",
   "metadata": {},
   "outputs": [
    {
     "name": "stdout",
     "output_type": "stream",
     "text": [
      "Source Columns: <bound method IndexOpsMixin.tolist of Index(['id', 'name', 'amount', 'date'], dtype='object')> 4\n",
      "Target Columns: <bound method IndexOpsMixin.tolist of Index(['id', 'name', 'amount', 'date'], dtype='object')> 4\n"
     ]
    }
   ],
   "source": [
    "## Column & Data Type Validation\n",
    "\n",
    "#List of the columns and count od total columns \n",
    "print ('Source Columns:', df_source.columns.to_list, len(df_source.columns))\n",
    "print ('Target Columns:', df_target.columns.to_list, len(df_source.columns))"
   ]
  },
  {
   "cell_type": "code",
   "execution_count": 17,
   "id": "4d90f0c1-52e1-4dd4-8d7d-dd42e361a0fe",
   "metadata": {},
   "outputs": [
    {
     "name": "stdout",
     "output_type": "stream",
     "text": [
      "Nulls in Source :\n",
      "id        0\n",
      "name      0\n",
      "amount    0\n",
      "date      0\n",
      "dtype: int64\n",
      "Nulls in Target :\n",
      "id        0\n",
      "name      0\n",
      "amount    0\n",
      "date      0\n",
      "dtype: int64\n"
     ]
    }
   ],
   "source": [
    "## Null Check\n",
    "\n",
    "print(\"Nulls in Source :\")\n",
    "print(df_source.isnull().sum())\n",
    "\n",
    "print(\"Nulls in Target :\")\n",
    "print(df_target.isnull().sum())"
   ]
  },
  {
   "cell_type": "code",
   "execution_count": 18,
   "id": "43527b59-b3df-428f-9e96-3d535294de09",
   "metadata": {},
   "outputs": [
    {
     "name": "stdout",
     "output_type": "stream",
     "text": [
      "Duplicate in Source: 0\n",
      "Duplicate in Target: 0\n",
      "   id     name  amount        date\n",
      "0   1    Alice    -500  2023-01-01\n",
      "1   2      BOB    1500  2023-01-05\n",
      "2   3  Charlie    2000  2023-01-10\n",
      "3   4    David    2500  2023-01-15\n",
      "4   5      EVE    3000  2023-01-20\n",
      "   id     name  amount        date\n",
      "0   1    ALICE    1000  2023-01-01\n",
      "1   2      BOB    1500  2023-01-05\n",
      "2   3  CHARLIE    2100  2023-01-10\n",
      "3   4    DAVID    2500  2023-01-15\n",
      "4   5      EVE    3000  2023-01-20\n"
     ]
    }
   ],
   "source": [
    "## Duplicate Check\n",
    "\n",
    "print('Duplicate in Source:',df_source.duplicated().sum())\n",
    "print('Duplicate in Target:',df_target.duplicated().sum())\n",
    "print(df_source)\n",
    "print(df_target)"
   ]
  },
  {
   "cell_type": "code",
   "execution_count": 19,
   "id": "f341c973-1680-48f6-b117-41bfafd7db57",
   "metadata": {},
   "outputs": [
    {
     "name": "stdout",
     "output_type": "stream",
     "text": [
      "Duplicate rows in df_source:\n",
      "Empty DataFrame\n",
      "Columns: [id, name, amount, date]\n",
      "Index: []\n",
      "Duplicate rows in df_target:\n",
      "Empty DataFrame\n",
      "Columns: [id, name, amount, date]\n",
      "Index: []\n"
     ]
    }
   ],
   "source": [
    "#Print Duplicates from df_source\n",
    "duplicates_source = df_source[df_source.duplicated()]\n",
    "print(\"Duplicate rows in df_source:\")\n",
    "print(duplicates_source)\n",
    "\n",
    "\n",
    "#Print Duplicates from df_target\n",
    "duplicates_target = df_target[df_target.duplicated()]\n",
    "print(\"Duplicate rows in df_target:\")\n",
    "print(duplicates_target)\n"
   ]
  },
  {
   "cell_type": "code",
   "execution_count": 20,
   "id": "48759fdf-b3d6-4470-ac6a-17278602cb49",
   "metadata": {},
   "outputs": [
    {
     "name": "stdout",
     "output_type": "stream",
     "text": [
      "Data Match: False\n"
     ]
    }
   ],
   "source": [
    "## Data Accuracy Check\n",
    "# This compares the entire DataFrame (df_source) with df_target.\n",
    "# It checks:\n",
    "\n",
    "# 1. Do both DataFrames have the same shape (same rows & columns)?\n",
    "# 2. Are the column names and their order exactly the same?\n",
    "# 3. Are the row indexes exactly the same?\n",
    "# 4. Is every single value in every cell the same (including NaN vs NaN)?\n",
    "\n",
    "# It returns:\n",
    "# True  → if everything matches exactly\n",
    "# False → if any difference exists\n",
    "\n",
    "comparison_result = df_source.equals(df_target)\n",
    "print(\"Data Match:\", comparison_result)"
   ]
  },
  {
   "cell_type": "code",
   "execution_count": 21,
   "id": "10fa1e1f-b123-4261-a292-e2f45dbbf300",
   "metadata": {},
   "outputs": [
    {
     "name": "stdout",
     "output_type": "stream",
     "text": [
      "Rows with mismatches (from df_source):\n",
      "   id     name  amount        date\n",
      "0   1    Alice    -500  2023-01-01\n",
      "2   3  Charlie    2000  2023-01-10\n",
      "3   4    David    2500  2023-01-15\n",
      "\n",
      "Corresponding rows from df_target:\n",
      "   id     name  amount        date\n",
      "0   1    ALICE    1000  2023-01-01\n",
      "2   3  CHARLIE    2100  2023-01-10\n",
      "3   4    DAVID    2500  2023-01-15\n"
     ]
    }
   ],
   "source": [
    "#step 1 Compare element-wise\n",
    "#True means the value does not match i.e. source values not matching with target values\n",
    "#False means the value matches\n",
    "comparison_df = df_source != df_target\n",
    "\n",
    "#step 2 Filter the mismatches\n",
    "mismatch_locations = comparison_df.any(axis=1)  # find rows with any mismatch\n",
    "mismatched_rows = df_source[mismatch_locations]\n",
    "print(\"Rows with mismatches (from df_source):\")\n",
    "print(mismatched_rows)\n",
    "\n",
    "print(\"\\nCorresponding rows from df_target:\")\n",
    "print(df_target[mismatch_locations])\n"
   ]
  },
  {
   "cell_type": "code",
   "execution_count": 22,
   "id": "5ff42c2f-2b6a-48c2-a26b-6e793178444a",
   "metadata": {},
   "outputs": [
    {
     "name": "stdout",
     "output_type": "stream",
     "text": [
      "mistmatch_row from source\n",
      "   id     name  amount        date\n",
      "0   1    Alice    -500  2023-01-01\n",
      "2   3  Charlie    2000  2023-01-10\n",
      "3   4    David    2500  2023-01-15\n",
      "---------------------------------------\n",
      "mistmatch_row from target\n",
      "   id     name  amount        date\n",
      "0   1    ALICE    1000  2023-01-01\n",
      "2   3  CHARLIE    2100  2023-01-10\n",
      "3   4    DAVID    2500  2023-01-15\n"
     ]
    }
   ],
   "source": [
    "#-- mistmatched data printing  - Source --#\n",
    "df_comparison = df_source != df_target\n",
    "df_comparison\n",
    "mistmatch = df_comparison.any(axis=1)\n",
    "mistmatch_row = df_source[mistmatch]\n",
    "print('mistmatch_row from source')\n",
    "print(mistmatch_row)\n",
    "\n",
    "print('---------------------------------------')\n",
    "\n",
    "#-- mistmatched data printing  - Source --#\n",
    "df_comparison = df_source != df_target\n",
    "df_comparison\n",
    "mistmatch = df_comparison.any(axis=1)\n",
    "mistmatch_row = df_target[mistmatch]\n",
    "print('mistmatch_row from target')\n",
    "print(mistmatch_row)"
   ]
  },
  {
   "cell_type": "code",
   "execution_count": 27,
   "id": "839d5579-3cc9-4b70-940e-434abdc53455",
   "metadata": {},
   "outputs": [
    {
     "ename": "AssertionError",
     "evalue": "Some Values are less than Zero",
     "output_type": "error",
     "traceback": [
      "\u001b[31m---------------------------------------------------------------------------\u001b[39m",
      "\u001b[31mAssertionError\u001b[39m                            Traceback (most recent call last)",
      "\u001b[36mCell\u001b[39m\u001b[36m \u001b[39m\u001b[32mIn[27]\u001b[39m\u001b[32m, line 3\u001b[39m\n\u001b[32m      1\u001b[39m \u001b[38;5;66;03m#Business Rule Validation Example\u001b[39;00m\n\u001b[32m----> \u001b[39m\u001b[32m3\u001b[39m \u001b[38;5;28;01massert\u001b[39;00m (df_source[\u001b[33m'\u001b[39m\u001b[33mamount\u001b[39m\u001b[33m'\u001b[39m]> \u001b[32m0\u001b[39m).all(), \u001b[33m\"\u001b[39m\u001b[33mSome Values are less than Zero\u001b[39m\u001b[33m\"\u001b[39m\n\u001b[32m      4\u001b[39m \u001b[38;5;28mprint\u001b[39m(df_source)\n",
      "\u001b[31mAssertionError\u001b[39m: Some Values are less than Zero"
     ]
    }
   ],
   "source": [
    "#Business Rule Validation Example\n",
    "\n",
    "assert (df_source['amount']> 0).all(), \"Some Values are less than Zero\"\n",
    "print(df_source)\n"
   ]
  },
  {
   "cell_type": "code",
   "execution_count": 28,
   "id": "73cf4780-1620-443a-9c68-b169ab3b0163",
   "metadata": {},
   "outputs": [
    {
     "name": "stdout",
     "output_type": "stream",
     "text": [
      "Invalid rows (amount <= 0):\n",
      "   id   name  amount        date\n",
      "0   1  Alice    -500  2023-01-01\n"
     ]
    }
   ],
   "source": [
    "# Print only invalid rows\n",
    "print(\"Invalid rows (amount <= 0):\")\n",
    "print(df_source[df_source['amount'] <= 0])\n"
   ]
  },
  {
   "cell_type": "code",
   "execution_count": null,
   "id": "6514b123-d790-4135-a736-9ab027b2d6f6",
   "metadata": {},
   "outputs": [],
   "source": [
    "# Null heatmap\n",
    "sns.heatmap(df_target.isnull(), cbar=False)\n",
    "plt.title(\"Null Value Heatmap - Target Data\")\n",
    "plt.show()"
   ]
  },
  {
   "cell_type": "code",
   "execution_count": null,
   "id": "a2ea6fe1-3651-4ada-a5a0-a0b72e98f1b9",
   "metadata": {},
   "outputs": [],
   "source": [
    "#import numpy as np\n",
    "# df_source.to_excel(\"source_output.xlsx\", index=False)\n",
    "# df_target.to_excel(\"target_output.xlsx\", index=False)"
   ]
  },
  {
   "cell_type": "code",
   "execution_count": null,
   "id": "2c9fe641-8f2e-4984-8d57-0b8392c2c742",
   "metadata": {},
   "outputs": [],
   "source": []
  }
 ],
 "metadata": {
  "kernelspec": {
   "display_name": "Python 3 (ipykernel)",
   "language": "python",
   "name": "python3"
  },
  "language_info": {
   "codemirror_mode": {
    "name": "ipython",
    "version": 3
   },
   "file_extension": ".py",
   "mimetype": "text/x-python",
   "name": "python",
   "nbconvert_exporter": "python",
   "pygments_lexer": "ipython3",
   "version": "3.13.5"
  }
 },
 "nbformat": 4,
 "nbformat_minor": 5
}
